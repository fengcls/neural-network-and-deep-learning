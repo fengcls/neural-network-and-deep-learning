{
 "cells": [
  {
   "cell_type": "markdown",
   "metadata": {},
   "source": [
    "# ECBM E6040 Homework 2 - Programming Problem"
   ]
  },
  {
   "cell_type": "code",
   "execution_count": 1,
   "metadata": {
    "collapsed": false
   },
   "outputs": [
    {
     "name": "stderr",
     "output_type": "stream",
     "text": [
      "Using gpu device 0: Quadro 4000 (CNMeM is disabled, CuDNN not available)\n"
     ]
    }
   ],
   "source": [
    "from hw2b import load_data, LogisticRegression, HiddenLayer, myMLP, test_mlp"
   ]
  },
  {
   "cell_type": "code",
   "execution_count": 2,
   "metadata": {
    "collapsed": true
   },
   "outputs": [],
   "source": [
    "import theano.tensor as T"
   ]
  },
  {
   "cell_type": "markdown",
   "metadata": {},
   "source": [
    "### Bullet 2: Comparison between _tanh_ and _softmax_"
   ]
  },
  {
   "cell_type": "code",
   "execution_count": 3,
   "metadata": {
    "collapsed": true
   },
   "outputs": [],
   "source": [
    "%reset -f array"
   ]
  },
  {
   "cell_type": "code",
   "execution_count": 4,
   "metadata": {
    "collapsed": false
   },
   "outputs": [
    {
     "name": "stdout",
     "output_type": "stream",
     "text": [
      "0.005 0.0 0.0005 1000 100 400 2 False Elemwise{tanh,no_inplace}\n",
      "... loading data\n",
      "... building the model\n",
      "... training\n",
      "292\n",
      "Optimization complete. Best validation score of 18.000000 % obtained at iteration 186497, with test performance 19.234615 %\n"
     ]
    },
    {
     "name": "stderr",
     "output_type": "stream",
     "text": [
      "The code for file hw2b.pyc ran for 28.46m\n"
     ]
    }
   ],
   "source": [
    "test_mlp(learning_rate=0.005, L1_reg=0.00, L2_reg=0.0005, n_epochs=1000,\n",
    "             batch_size=100, n_hidden_unit=400, n_hidden_layer=2, verbose=False, activation=T.tanh)"
   ]
  },
  {
   "cell_type": "code",
   "execution_count": 7,
   "metadata": {
    "collapsed": true
   },
   "outputs": [],
   "source": [
    "%reset -f array"
   ]
  },
  {
   "cell_type": "code",
   "execution_count": 8,
   "metadata": {
    "collapsed": false
   },
   "outputs": [
    {
     "name": "stdout",
     "output_type": "stream",
     "text": [
      "0.005 0.0 0.0005 1000 100 400 2 False <function softmax at 0x7f3ff97a6398>\n",
      "... loading data\n",
      "... building the model\n",
      "... training\n",
      "16\n",
      "Optimization complete. Best validation score of 81.150685 % obtained at iteration 659, with test performance 80.415385 %\n"
     ]
    },
    {
     "name": "stderr",
     "output_type": "stream",
     "text": [
      "The code for file hw2b.pyc ran for 1.55m\n"
     ]
    }
   ],
   "source": [
    "test_mlp(learning_rate=0.005, L1_reg=0.00, L2_reg=0.0005, n_epochs=1000,\n",
    "             batch_size=100, n_hidden_unit=400, n_hidden_layer=2, verbose=False, activation=T.nnet.softmax)"
   ]
  },
  {
   "cell_type": "markdown",
   "metadata": {},
   "source": [
    "Comments:\n",
    "As stated in http://www.iro.umontreal.ca/~bengioy/ift6266/H12/html.old/mlp_en.html, \"It is better to use a symmetric nonlinearity in the hidden layers (such as the hyperbolic tangent, or tanh, and unlike the logistic sigmoid), in order to improve the conditioning of the Hessian and avoid saturation of the nonlinearity in the hidden layers.\"\n",
    "And softmax is not a good candidate for hidden layer activation function, but a good one for output layer activation function in classification task. Softmax normalizes across the entries to a sum of 1, like a probability distribution. And it is affected by the absolute magnitude of the entries. If a certain entry has large value, the output of other entries are simply muted which compromise the number of units."
   ]
  },
  {
   "cell_type": "markdown",
   "metadata": {},
   "source": [
    "### Bullet 3: Experiment with the number of hidden layers"
   ]
  },
  {
   "cell_type": "code",
   "execution_count": 20,
   "metadata": {
    "collapsed": true
   },
   "outputs": [],
   "source": [
    "%reset -f array"
   ]
  },
  {
   "cell_type": "code",
   "execution_count": 21,
   "metadata": {
    "collapsed": false
   },
   "outputs": [
    {
     "name": "stdout",
     "output_type": "stream",
     "text": [
      "0.005 0.0 0.0005 1000 100 600 1 False Elemwise{tanh,no_inplace}\n",
      "... loading data\n",
      "... building the model\n",
      "... training\n",
      "440\n",
      "Optimization complete. Best validation score of 17.575342 % obtained at iteration 287983, with test performance 19.200000 %\n"
     ]
    },
    {
     "name": "stderr",
     "output_type": "stream",
     "text": [
      "The code for file hw2b.pyc ran for 48.81m\n"
     ]
    }
   ],
   "source": [
    "test_mlp(learning_rate=0.005, L1_reg=0.00, L2_reg=0.0005, n_epochs=1000,\n",
    "             batch_size=100, n_hidden_unit=600, n_hidden_layer=1, verbose=False, activation=T.tanh)"
   ]
  },
  {
   "cell_type": "code",
   "execution_count": 25,
   "metadata": {
    "collapsed": true
   },
   "outputs": [],
   "source": [
    "%reset -f array"
   ]
  },
  {
   "cell_type": "code",
   "execution_count": 26,
   "metadata": {
    "collapsed": false
   },
   "outputs": [
    {
     "name": "stdout",
     "output_type": "stream",
     "text": [
      "0.005 0.0 0.0005 1000 100 600 2 False Elemwise{tanh,no_inplace}\n",
      "... loading data\n",
      "... building the model\n",
      "... training\n",
      "340\n",
      "Optimization complete. Best validation score of 18.082192 % obtained at iteration 221424, with test performance 18.861538 %\n"
     ]
    },
    {
     "name": "stderr",
     "output_type": "stream",
     "text": [
      "The code for file hw2b.pyc ran for 47.72m\n"
     ]
    }
   ],
   "source": [
    "test_mlp(learning_rate=0.005, L1_reg=0.00, L2_reg=0.0005, n_epochs=1000,\n",
    "             batch_size=100, n_hidden_unit=600, n_hidden_layer=2, verbose=False, activation=T.tanh)"
   ]
  },
  {
   "cell_type": "code",
   "execution_count": 39,
   "metadata": {
    "collapsed": true
   },
   "outputs": [],
   "source": [
    "%reset -f array"
   ]
  },
  {
   "cell_type": "code",
   "execution_count": 55,
   "metadata": {
    "collapsed": false
   },
   "outputs": [
    {
     "name": "stdout",
     "output_type": "stream",
     "text": [
      "0.005 0.0 0.0005 1000 100 600 3 False Elemwise{tanh,no_inplace}\n",
      "... loading data\n",
      "... building the model\n",
      "... training\n",
      "470\n",
      "Optimization complete. Best validation score of 15.013699 % obtained at iteration 273485, with test performance 16.476923 %\n"
     ]
    },
    {
     "name": "stderr",
     "output_type": "stream",
     "text": [
      "The code for file hw2b.pyc ran for 77.82m\n"
     ]
    }
   ],
   "source": [
    "test_mlp(learning_rate=0.005, L1_reg=0.00, L2_reg=0.0005, n_epochs=1000,\n",
    "             batch_size=100, n_hidden_unit=600, n_hidden_layer=3, verbose=False, activation=T.tanh)"
   ]
  },
  {
   "cell_type": "code",
   "execution_count": null,
   "metadata": {
    "collapsed": true
   },
   "outputs": [],
   "source": [
    "%reset -f array"
   ]
  },
  {
   "cell_type": "code",
   "execution_count": 3,
   "metadata": {
    "collapsed": false
   },
   "outputs": [
    {
     "name": "stdout",
     "output_type": "stream",
     "text": [
      "0.005 0.0 0.0005 1000 100 600 4 False Elemwise{tanh,no_inplace}\n",
      "... loading data\n",
      "... building the model\n",
      "... training\n",
      "298\n",
      "Optimization complete. Best validation score of 14.657534 % obtained at iteration 185838, with test performance 16.623077 %\n"
     ]
    },
    {
     "name": "stderr",
     "output_type": "stream",
     "text": [
      "The code for file hw2b.pyc ran for 57.84m\n"
     ]
    }
   ],
   "source": [
    "test_mlp(learning_rate=0.005, L1_reg=0.00, L2_reg=0.0005, n_epochs=1000,\n",
    "             batch_size=100, n_hidden_unit=600, n_hidden_layer=4, verbose=False, activation=T.tanh)"
   ]
  },
  {
   "cell_type": "code",
   "execution_count": 41,
   "metadata": {
    "collapsed": true
   },
   "outputs": [],
   "source": [
    "%reset -f array"
   ]
  },
  {
   "cell_type": "code",
   "execution_count": 42,
   "metadata": {
    "collapsed": false
   },
   "outputs": [
    {
     "name": "stdout",
     "output_type": "stream",
     "text": [
      "0.005 0.0 0.0005 1000 100 600 5 False Elemwise{tanh,no_inplace}\n",
      "... loading data\n",
      "... building the model\n",
      "... training\n",
      "236\n",
      "Optimization complete. Best validation score of 14.602740 % obtained at iteration 127846, with test performance 17.330769 %\n"
     ]
    },
    {
     "name": "stderr",
     "output_type": "stream",
     "text": [
      "The code for file hw2b.pyc ran for 52.23m\n"
     ]
    }
   ],
   "source": [
    "test_mlp(learning_rate=0.005, L1_reg=0.00, L2_reg=0.0005, n_epochs=1000,\n",
    "             batch_size=100, n_hidden_unit=600, n_hidden_layer=5, verbose=False, activation=T.tanh)"
   ]
  },
  {
   "cell_type": "code",
   "execution_count": 29,
   "metadata": {
    "collapsed": true
   },
   "outputs": [],
   "source": [
    "%reset -f array"
   ]
  },
  {
   "cell_type": "code",
   "execution_count": 30,
   "metadata": {
    "collapsed": false
   },
   "outputs": [
    {
     "name": "stdout",
     "output_type": "stream",
     "text": [
      "0.005 0.0 0.0005 1000 100 600 6 False Elemwise{tanh,no_inplace}\n",
      "... loading data\n",
      "... building the model\n",
      "... training\n",
      "276\n",
      "Optimization complete. Best validation score of 15.520548 % obtained at iteration 104122, with test performance 18.026923 %\n"
     ]
    },
    {
     "name": "stderr",
     "output_type": "stream",
     "text": [
      "The code for file hw2b.pyc ran for 68.05m\n"
     ]
    }
   ],
   "source": [
    "test_mlp(learning_rate=0.005, L1_reg=0.00, L2_reg=0.0005, n_epochs=1000,\n",
    "             batch_size=100, n_hidden_unit=600, n_hidden_layer=6, verbose=False, activation=T.tanh)"
   ]
  },
  {
   "cell_type": "code",
   "execution_count": 33,
   "metadata": {
    "collapsed": true
   },
   "outputs": [],
   "source": [
    "%reset -f array"
   ]
  },
  {
   "cell_type": "code",
   "execution_count": 34,
   "metadata": {
    "collapsed": false,
    "scrolled": true
   },
   "outputs": [
    {
     "name": "stdout",
     "output_type": "stream",
     "text": [
      "0.005 0.0 0.0005 1000 100 600 7 False Elemwise{tanh,no_inplace}\n",
      "... loading data\n",
      "... building the model\n",
      "... training\n",
      "214\n",
      "Optimization complete. Best validation score of 15.602740 % obtained at iteration 90942, with test performance 18.553846 %\n"
     ]
    },
    {
     "name": "stderr",
     "output_type": "stream",
     "text": [
      "The code for file hw2b.pyc ran for 58.93m\n"
     ]
    }
   ],
   "source": [
    "test_mlp(learning_rate=0.005, L1_reg=0.00, L2_reg=0.0005, n_epochs=1000,\n",
    "             batch_size=100, n_hidden_unit=600, n_hidden_layer=7, verbose=False, activation=T.tanh)"
   ]
  },
  {
   "cell_type": "code",
   "execution_count": null,
   "metadata": {
    "collapsed": true
   },
   "outputs": [],
   "source": [
    "%reset -f array"
   ]
  },
  {
   "cell_type": "code",
   "execution_count": 34,
   "metadata": {
    "collapsed": false
   },
   "outputs": [
    {
     "name": "stdout",
     "output_type": "stream",
     "text": [
      "0.005 0.0 0.0005 1000 100 600 8 False Elemwise{tanh,no_inplace}\n",
      "... loading data\n",
      "... building the model\n",
      "... training\n",
      "222\n",
      "Optimization complete. Best validation score of 15.452055 % obtained at iteration 84352, with test performance 18.315385 %\n"
     ]
    },
    {
     "name": "stderr",
     "output_type": "stream",
     "text": [
      "The code for file hw2b.pyc ran for 67.15m\n"
     ]
    }
   ],
   "source": [
    "test_mlp(learning_rate=0.005, L1_reg=0.00, L2_reg=0.0005, n_epochs=1000,\n",
    "             batch_size=100, n_hidden_unit=600, n_hidden_layer=8, verbose=False, activation=T.tanh)"
   ]
  },
  {
   "cell_type": "markdown",
   "metadata": {},
   "source": [
    "Plot the result (reproducing Figure 1)"
   ]
  },
  {
   "cell_type": "code",
   "execution_count": 1,
   "metadata": {
    "collapsed": true
   },
   "outputs": [],
   "source": [
    "%matplotlib inline"
   ]
  },
  {
   "cell_type": "code",
   "execution_count": 5,
   "metadata": {
    "collapsed": false
   },
   "outputs": [
    {
     "data": {
      "text/plain": [
       "<matplotlib.text.Text at 0x108f8c110>"
      ]
     },
     "execution_count": 5,
     "metadata": {},
     "output_type": "execute_result"
    },
    {
     "data": {
      "image/png": "[encoded data removed]",
      "text/plain": [
       "<matplotlib.figure.Figure at 0x108d7da50>"
      ]
     },
     "metadata": {},
     "output_type": "display_data"
    }
   ],
   "source": [
    "from matplotlib import pyplot as plt\n",
    "import numpy as np\n",
    "plt.figure()\n",
    "plt.plot(range(1,9),100.0-np.array([19.20,18.86,16.47,16.62,17.33,18.02,18.55,18.32]))\n",
    "plt.xlabel('Hidden Layers')\n",
    "plt.ylabel('Test Accuracy')"
   ]
  },
  {
   "cell_type": "markdown",
   "metadata": {},
   "source": [
    "Document the choice of parameters, and discuss what you discover."
   ]
  },
  {
   "cell_type": "markdown",
   "metadata": {
    "collapsed": true
   },
   "source": [
    "The paramters are selected as the optimal at 3 hidden layers. This is relatively shallow as well as deep. Some of the paramter selecting process are shown in the following table. The paramter set with best performance is selected and used for other number of layers. The parameter tuning is not very great as the test error changes in a short range. However a more sophisticated parameter tuning require more time and resources.\n",
    "\n",
    "| learning_rate | L1_reg | L2_reg  | n_epochs | batch_size | n_hidden_unit | n_hidden_layer | validation score | test score | iteration | time   | platform | epoch | activation function |\n",
    "|---------------|--------|---------|----------|------------|---------------|----------------|------------------|------------|-----------|--------|----------|-------|---------------------|\n",
    "| 0.005         | 0      | 0.0001  | 1000     | 20         | 300           | 3              | 16.106557        | 18.397387  | 1216224   | 150.41 | 57       | 432   | tanh                |\n",
    "| 0.005         | 0      | 0.0001  | 1000     | 50         | 300           | 3              | 16.273973        | 17.803846  | 191110    | 26.35  | 57       | 160   | tanh                |\n",
    "| 0.005         | 0      | 0.0001  | 1000     | 100        | 300           | 3              | 15.520548        | 17.673077  | 193087    | 29.78  | 57       | 332   | tanh                |\n",
    "| 0.005         | 0      | 0.00005 | 1000     | 100        | 300           | 3              | 15.561644        | 17.703846  | 162773    | 24.74  | 57       | 272   | tanh                |\n",
    "| 0.005         | 0.0001 | 0.0001  | 1000     | 100        | 300           | 3              | 18.60274         | 19.826923  | 255033    | 49.76  | 57       | 388   | tanh                |\n",
    "| 0.005         | 0      | 0.0002  | 1000     | 100        | 300           | 3              | 15.739726        | 17.392308  | 206926    | 32.8   | 57       | 368   | tanh                |\n",
    "| 0.005         | 0      | 0.001   | 1000     | 100        | 300           | 3              | 17.520548        | 18.715385  | 193746    | 30.24  | 57       | 332   | tanh                |\n",
    "| 0.005         | 0      | 0.0005  | 1000     | 100        | 300           | 3              | 15.931507        | 17.173077  | 204949    | 29.88  | 57       | 330   | tanh                |\n",
    "| 0.005         | 0      | 0.0005  | 1000     | 100        | 600           | 3              | 15.013699        | 16.476923  | 273485    | 77.82  | 57       | 470   | tanh                |\n",
    "| 0.01          | 0      | 0.0001  | 1000     | 50         | 100           | 3              | 16.712329        | 18.969231  | 180566    | 16.24  | 57       | 174   | tanh                |\n",
    "| 0.01          | 0      | 0.0001  | 1000     | 50         | 200           | 3              | 16.273973        | 18.376923  | 154206    | 20.11  | 57       | 154   | tanh                |\n",
    "| 0.01          | 0      | 0.0001  | 1000     | 50         | 300           | 3              | 16.082192        | 18.107692  | 119938    | 21.41  | 57       | 132   | tanh                |\n",
    "| 0.01          | 0      | 0.0005  | 1000     | 100        | 300           | 3              | 15.780822        | 16.834615  | 119279    | 16.84  | 57       | 184   | tanh                |\n",
    "| 0.01          | 0      | 0.0005  | 1000     | 50         | 300           | 3              | 15.780822        | 16.903846  | 233286    | 35.97  | 57       | 222   | tanh                |\n",
    "| 0.015         | 0      | 0.0005  | 1000     | 100        | 300           | 3              | 15.657534        | 16.961538  | 121256    | 24.23  | 57       | 274   | tanh                |\n",
    "| 0.005         | 0      | 0.00001 | 1000     | 100        | 300           | 3              | 15.56164         | 17.93462   | 180566    | 65.01  | windows  | 302   | tanh                |\n",
    "\n",
    "As stated in the textbook, empirically, greater depth seems to result in better generalization for this application. The assumption embedded in the deep structure provides desirable property. However, although the performance with number of layers larger than 5 is significantly better than that of 3 and 4. The performance at larger layers doesn't outperform those with a medium number of layers. Possible reason is that the paramter tuning process (carried out at 3 hidden layer) overfits.\n"
   ]
  },
  {
   "cell_type": "markdown",
   "metadata": {},
   "source": [
    "### Bullet 4: Experiment with the number of hidden layers, but fix the total number of neurons"
   ]
  },
  {
   "cell_type": "code",
   "execution_count": 35,
   "metadata": {
    "collapsed": true
   },
   "outputs": [],
   "source": [
    "%reset -f array"
   ]
  },
  {
   "cell_type": "code",
   "execution_count": 36,
   "metadata": {
    "collapsed": false
   },
   "outputs": [
    {
     "name": "stdout",
     "output_type": "stream",
     "text": [
      "0.005 0.0 0.0005 1000 100 2400 1 False Elemwise{tanh,no_inplace}\n",
      "... loading data\n",
      "... building the model\n",
      "... training\n",
      "324\n",
      "Optimization complete. Best validation score of 19.410959 % obtained at iteration 212857, with test performance 20.157692 %\n"
     ]
    },
    {
     "name": "stderr",
     "output_type": "stream",
     "text": [
      "The code for file hw2b.pyc ran for 127.19m\n"
     ]
    }
   ],
   "source": [
    "test_mlp(learning_rate=0.005, L1_reg=0.00, L2_reg=0.0005, n_epochs=1000,\n",
    "             batch_size=100, n_hidden_unit=2400, n_hidden_layer=1, verbose=False, activation=T.tanh)"
   ]
  },
  {
   "cell_type": "code",
   "execution_count": 37,
   "metadata": {
    "collapsed": true
   },
   "outputs": [],
   "source": [
    "%reset -f array"
   ]
  },
  {
   "cell_type": "code",
   "execution_count": 38,
   "metadata": {
    "collapsed": false
   },
   "outputs": [
    {
     "name": "stdout",
     "output_type": "stream",
     "text": [
      "0.005 0.0 0.0005 1000 100 1200 2 False Elemwise{tanh,no_inplace}\n",
      "... loading data\n",
      "... building the model\n",
      "... training\n",
      "330\n",
      "Optimization complete. Best validation score of 16.383562 % obtained at iteration 208903, with test performance 18.034615 %\n"
     ]
    },
    {
     "name": "stderr",
     "output_type": "stream",
     "text": [
      "The code for file hw2b.pyc ran for 105.94m\n"
     ]
    }
   ],
   "source": [
    "test_mlp(learning_rate=0.005, L1_reg=0.00, L2_reg=0.0005, n_epochs=1000,\n",
    "             batch_size=100, n_hidden_unit=1200, n_hidden_layer=2, verbose=False, activation=T.tanh)"
   ]
  },
  {
   "cell_type": "code",
   "execution_count": 39,
   "metadata": {
    "collapsed": true
   },
   "outputs": [],
   "source": [
    "%reset -f array"
   ]
  },
  {
   "cell_type": "code",
   "execution_count": 40,
   "metadata": {
    "collapsed": false
   },
   "outputs": [
    {
     "name": "stdout",
     "output_type": "stream",
     "text": [
      "0.005 0.0 0.0005 1000 100 800 3 False Elemwise{tanh,no_inplace}\n",
      "... loading data\n",
      "... building the model\n",
      "... training\n",
      "398\n",
      "Optimization complete. Best validation score of 15.561644 % obtained at iteration 177271, with test performance 17.519231 %\n"
     ]
    },
    {
     "name": "stderr",
     "output_type": "stream",
     "text": [
      "The code for file hw2b.pyc ran for 88.80m\n"
     ]
    }
   ],
   "source": [
    "test_mlp(learning_rate=0.005, L1_reg=0.00, L2_reg=0.0005, n_epochs=1000,\n",
    "             batch_size=100, n_hidden_unit=800, n_hidden_layer=3, verbose=False, activation=T.tanh)"
   ]
  },
  {
   "cell_type": "code",
   "execution_count": 41,
   "metadata": {
    "collapsed": true
   },
   "outputs": [],
   "source": [
    "%reset -f array"
   ]
  },
  {
   "cell_type": "code",
   "execution_count": 42,
   "metadata": {
    "collapsed": false
   },
   "outputs": [
    {
     "name": "stdout",
     "output_type": "stream",
     "text": [
      "0.005 0.0 0.0005 1000 100 600 4 False Elemwise{tanh,no_inplace}\n",
      "... loading data\n",
      "... building the model\n",
      "... training\n",
      "298\n",
      "Optimization complete. Best validation score of 14.657534 % obtained at iteration 185838, with test performance 16.623077 %\n"
     ]
    },
    {
     "name": "stderr",
     "output_type": "stream",
     "text": [
      "The code for file hw2b.pyc ran for 57.97m\n"
     ]
    }
   ],
   "source": [
    "test_mlp(learning_rate=0.005, L1_reg=0.00, L2_reg=0.0005, n_epochs=1000,\n",
    "             batch_size=100, n_hidden_unit=600, n_hidden_layer=4, verbose=False, activation=T.tanh)"
   ]
  },
  {
   "cell_type": "code",
   "execution_count": 43,
   "metadata": {
    "collapsed": true
   },
   "outputs": [],
   "source": [
    "%reset -f array"
   ]
  },
  {
   "cell_type": "code",
   "execution_count": 44,
   "metadata": {
    "collapsed": false
   },
   "outputs": [
    {
     "name": "stdout",
     "output_type": "stream",
     "text": [
      "0.005 0.0 0.0005 1000 100 480 5 False Elemwise{tanh,no_inplace}\n",
      "... loading data\n",
      "... building the model\n",
      "... training\n",
      "326\n",
      "Optimization complete. Best validation score of 14.958904 % obtained at iteration 154206, with test performance 17.065385 %\n"
     ]
    },
    {
     "name": "stderr",
     "output_type": "stream",
     "text": [
      "The code for file hw2b.pyc ran for 54.79m\n"
     ]
    }
   ],
   "source": [
    "test_mlp(learning_rate=0.005, L1_reg=0.00, L2_reg=0.0005, n_epochs=1000,\n",
    "             batch_size=100, n_hidden_unit=480, n_hidden_layer=5, verbose=False, activation=T.tanh)"
   ]
  },
  {
   "cell_type": "code",
   "execution_count": 45,
   "metadata": {
    "collapsed": true
   },
   "outputs": [],
   "source": [
    "%reset -f array"
   ]
  },
  {
   "cell_type": "code",
   "execution_count": 46,
   "metadata": {
    "collapsed": false
   },
   "outputs": [
    {
     "name": "stdout",
     "output_type": "stream",
     "text": [
      "0.005 0.0 0.0005 1000 100 400 6 False Elemwise{tanh,no_inplace}\n",
      "... loading data\n",
      "... building the model\n",
      "... training\n",
      "298\n",
      "Optimization complete. Best validation score of 15.493151 % obtained at iteration 131800, with test performance 18.192308 %\n"
     ]
    },
    {
     "name": "stderr",
     "output_type": "stream",
     "text": [
      "The code for file hw2b.pyc ran for 46.30m\n"
     ]
    }
   ],
   "source": [
    "test_mlp(learning_rate=0.005, L1_reg=0.00, L2_reg=0.0005, n_epochs=1000,\n",
    "             batch_size=100, n_hidden_unit=400, n_hidden_layer=6, verbose=False, activation=T.tanh)"
   ]
  },
  {
   "cell_type": "code",
   "execution_count": 47,
   "metadata": {
    "collapsed": true
   },
   "outputs": [],
   "source": [
    "%reset -f array"
   ]
  },
  {
   "cell_type": "code",
   "execution_count": 48,
   "metadata": {
    "collapsed": false
   },
   "outputs": [
    {
     "name": "stdout",
     "output_type": "stream",
     "text": [
      "0.005 0.0 0.0005 1000 100 343 7 False Elemwise{tanh,no_inplace}\n",
      "... loading data\n",
      "... building the model\n",
      "... training\n",
      "272\n",
      "Optimization complete. Best validation score of 15.602740 % obtained at iteration 106099, with test performance 17.615385 %\n"
     ]
    },
    {
     "name": "stderr",
     "output_type": "stream",
     "text": [
      "The code for file hw2b.pyc ran for 40.28m\n"
     ]
    }
   ],
   "source": [
    "test_mlp(learning_rate=0.005, L1_reg=0.00, L2_reg=0.0005, n_epochs=1000,\n",
    "             batch_size=100, n_hidden_unit=343, n_hidden_layer=7, verbose=False, activation=T.tanh)"
   ]
  },
  {
   "cell_type": "code",
   "execution_count": 49,
   "metadata": {
    "collapsed": true
   },
   "outputs": [],
   "source": [
    "%reset -f array"
   ]
  },
  {
   "cell_type": "code",
   "execution_count": 50,
   "metadata": {
    "collapsed": false
   },
   "outputs": [
    {
     "name": "stdout",
     "output_type": "stream",
     "text": [
      "0.005 0.0 0.0005 1000 100 300 8 False Elemwise{tanh,no_inplace}\n",
      "... loading data\n",
      "... building the model\n",
      "... training\n",
      "210\n",
      "Optimization complete. Best validation score of 15.917808 % obtained at iteration 108076, with test performance 18.223077 %\n"
     ]
    },
    {
     "name": "stderr",
     "output_type": "stream",
     "text": [
      "The code for file hw2b.pyc ran for 30.41m\n"
     ]
    }
   ],
   "source": [
    "test_mlp(learning_rate=0.005, L1_reg=0.00, L2_reg=0.0005, n_epochs=1000,\n",
    "             batch_size=100, n_hidden_unit=300, n_hidden_layer=8, verbose=False, activation=T.tanh)"
   ]
  },
  {
   "cell_type": "markdown",
   "metadata": {},
   "source": [
    "Plot the result (reproducing Figure 2)"
   ]
  },
  {
   "cell_type": "code",
   "execution_count": null,
   "metadata": {
    "collapsed": true
   },
   "outputs": [],
   "source": [
    "%matplotlib inline"
   ]
  },
  {
   "cell_type": "code",
   "execution_count": 8,
   "metadata": {
    "collapsed": false
   },
   "outputs": [
    {
     "data": {
      "text/plain": [
       "<matplotlib.text.Text at 0xb8434a8>"
      ]
     },
     "execution_count": 8,
     "metadata": {},
     "output_type": "execute_result"
    },
    {
     "data": {
      "image/png": "[encoded data removed]",
      "text/plain": [
       "<matplotlib.figure.Figure at 0xa683a90>"
      ]
     },
     "metadata": {},
     "output_type": "display_data"
    }
   ],
   "source": [
    "from matplotlib import pyplot as plt\n",
    "import numpy as np\n",
    "plt.figure()\n",
    "plt.plot(range(1,9),100.0-np.array([20.16,18.03,17.52,16.62,17.07,18.19,17.62,18.22]))\n",
    "plt.xlabel('Hidden Layer')\n",
    "plt.ylabel('Test Accuracy')\n",
    "plt.title('Fix number of units at 2.4K')"
   ]
  },
  {
   "cell_type": "markdown",
   "metadata": {},
   "source": [
    "Document the choice of parameters, and discuss what you discover."
   ]
  },
  {
   "cell_type": "markdown",
   "metadata": {
    "collapsed": true
   },
   "source": [
    "The total number of units is set at 2.4K as suggested. The parameters are shown in the cells. The test accuracy curve first increases and then decreases. This implies that both number of units in every layer and the number of layers matter. A good balance of hidden layer number and number of units give out the best result."
   ]
  },
  {
   "cell_type": "markdown",
   "metadata": {},
   "source": [
    "### Bullet 5: Experiment with the number of neurons in hidden layers, but fix the number of hidden layers"
   ]
  },
  {
   "cell_type": "markdown",
   "metadata": {},
   "source": [
    "1 Hidden Layer:"
   ]
  },
  {
   "cell_type": "code",
   "execution_count": 3,
   "metadata": {
    "collapsed": false,
    "scrolled": false
   },
   "outputs": [
    {
     "name": "stdout",
     "output_type": "stream",
     "text": [
      "0.005 0.0 0.0005 1000 100 200 1 False Elemwise{tanh,no_inplace}\n",
      "... loading data\n",
      "... building the model\n",
      "... training\n",
      "402\n",
      "Optimization complete. Best validation score of 18.493151 % obtained at iteration 264259, with test performance 19.876923 %\n"
     ]
    },
    {
     "name": "stderr",
     "output_type": "stream",
     "text": [
      "The code for file hw2b.pyc ran for 23.76m\n"
     ]
    }
   ],
   "source": [
    "test_mlp(learning_rate=0.005, L1_reg=0.00, L2_reg=0.0005, n_epochs=1000,\n",
    "             batch_size=100, n_hidden_unit=200, n_hidden_layer=1, verbose=False, activation=T.tanh)"
   ]
  },
  {
   "cell_type": "code",
   "execution_count": 8,
   "metadata": {
    "collapsed": true
   },
   "outputs": [],
   "source": [
    "%reset -f array"
   ]
  },
  {
   "cell_type": "code",
   "execution_count": 9,
   "metadata": {
    "collapsed": false
   },
   "outputs": [
    {
     "name": "stdout",
     "output_type": "stream",
     "text": [
      "0.005 0.0 0.0005 1000 100 400 1 False Elemwise{tanh,no_inplace}\n",
      "... loading data\n",
      "... building the model\n",
      "... training\n",
      "350\n",
      "Optimization complete. Best validation score of 18.438356 % obtained at iteration 229991, with test performance 19.803846 %\n"
     ]
    },
    {
     "name": "stderr",
     "output_type": "stream",
     "text": [
      "The code for file hw2b.pyc ran for 29.06m\n"
     ]
    }
   ],
   "source": [
    "test_mlp(learning_rate=0.005, L1_reg=0.00, L2_reg=0.0005, n_epochs=1000,\n",
    "             batch_size=100, n_hidden_unit=400, n_hidden_layer=1, verbose=False, activation=T.tanh)"
   ]
  },
  {
   "cell_type": "code",
   "execution_count": 10,
   "metadata": {
    "collapsed": true
   },
   "outputs": [],
   "source": [
    "%reset -f array"
   ]
  },
  {
   "cell_type": "code",
   "execution_count": 11,
   "metadata": {
    "collapsed": false
   },
   "outputs": [
    {
     "name": "stdout",
     "output_type": "stream",
     "text": [
      "0.005 0.0 0.0005 1000 100 600 1 False Elemwise{tanh,no_inplace}\n",
      "... loading data\n",
      "... building the model\n",
      "... training\n",
      "440\n",
      "Optimization complete. Best validation score of 17.575342 % obtained at iteration 287983, with test performance 19.200000 %\n"
     ]
    },
    {
     "name": "stderr",
     "output_type": "stream",
     "text": [
      "The code for file hw2b.pyc ran for 48.99m\n"
     ]
    }
   ],
   "source": [
    "test_mlp(learning_rate=0.005, L1_reg=0.00, L2_reg=0.0005, n_epochs=1000,\n",
    "             batch_size=100, n_hidden_unit=600, n_hidden_layer=1, verbose=False, activation=T.tanh)"
   ]
  },
  {
   "cell_type": "code",
   "execution_count": 12,
   "metadata": {
    "collapsed": true
   },
   "outputs": [],
   "source": [
    "%reset -f array"
   ]
  },
  {
   "cell_type": "code",
   "execution_count": 13,
   "metadata": {
    "collapsed": false
   },
   "outputs": [
    {
     "name": "stdout",
     "output_type": "stream",
     "text": [
      "0.005 0.0 0.0005 1000 100 800 1 False Elemwise{tanh,no_inplace}\n",
      "... loading data\n",
      "... building the model\n",
      "... training\n",
      "360\n",
      "Optimization complete. Best validation score of 18.191781 % obtained at iteration 235922, with test performance 19.838462 %\n"
     ]
    },
    {
     "name": "stderr",
     "output_type": "stream",
     "text": [
      "The code for file hw2b.pyc ran for 50.39m\n"
     ]
    }
   ],
   "source": [
    "test_mlp(learning_rate=0.005, L1_reg=0.00, L2_reg=0.0005, n_epochs=1000,\n",
    "             batch_size=100, n_hidden_unit=800, n_hidden_layer=1, verbose=False, activation=T.tanh)"
   ]
  },
  {
   "cell_type": "code",
   "execution_count": 14,
   "metadata": {
    "collapsed": true
   },
   "outputs": [],
   "source": [
    "%reset -f array"
   ]
  },
  {
   "cell_type": "code",
   "execution_count": 15,
   "metadata": {
    "collapsed": false
   },
   "outputs": [
    {
     "name": "stdout",
     "output_type": "stream",
     "text": [
      "0.005 0.0 0.0005 1000 100 1000 1 False Elemwise{tanh,no_inplace}\n",
      "... loading data\n",
      "... building the model\n",
      "... training\n",
      "350\n",
      "Optimization complete. Best validation score of 18.849315 % obtained at iteration 229991, with test performance 19.992308 %\n"
     ]
    },
    {
     "name": "stderr",
     "output_type": "stream",
     "text": [
      "The code for file hw2b.pyc ran for 60.89m\n"
     ]
    }
   ],
   "source": [
    "test_mlp(learning_rate=0.005, L1_reg=0.00, L2_reg=0.0005, n_epochs=1000,\n",
    "             batch_size=100, n_hidden_unit=1000, n_hidden_layer=1, verbose=False, activation=T.tanh)"
   ]
  },
  {
   "cell_type": "code",
   "execution_count": 16,
   "metadata": {
    "collapsed": true
   },
   "outputs": [],
   "source": [
    "%reset -f array"
   ]
  },
  {
   "cell_type": "markdown",
   "metadata": {},
   "source": [
    "2 Hidden Layers:"
   ]
  },
  {
   "cell_type": "code",
   "execution_count": 17,
   "metadata": {
    "collapsed": false
   },
   "outputs": [
    {
     "name": "stdout",
     "output_type": "stream",
     "text": [
      "0.005 0.0 0.0005 1000 100 200 2 False Elemwise{tanh,no_inplace}\n",
      "... loading data\n",
      "... building the model\n",
      "... training\n",
      "362\n",
      "Optimization complete. Best validation score of 17.287671 % obtained at iteration 232627, with test performance 18.323077 %\n"
     ]
    },
    {
     "name": "stderr",
     "output_type": "stream",
     "text": [
      "The code for file hw2b.pyc ran for 23.56m\n"
     ]
    }
   ],
   "source": [
    "test_mlp(learning_rate=0.005, L1_reg=0.00, L2_reg=0.0005, n_epochs=1000,\n",
    "             batch_size=100, n_hidden_unit=200, n_hidden_layer=2, verbose=False, activation=T.tanh)"
   ]
  },
  {
   "cell_type": "code",
   "execution_count": 18,
   "metadata": {
    "collapsed": true
   },
   "outputs": [],
   "source": [
    "%reset -f array"
   ]
  },
  {
   "cell_type": "code",
   "execution_count": 19,
   "metadata": {
    "collapsed": false
   },
   "outputs": [
    {
     "name": "stdout",
     "output_type": "stream",
     "text": [
      "0.005 0.0 0.0005 1000 100 400 2 False Elemwise{tanh,no_inplace}\n",
      "... loading data\n",
      "... building the model\n",
      "... training\n",
      "292\n",
      "Optimization complete. Best validation score of 18.000000 % obtained at iteration 186497, with test performance 19.234615 %\n"
     ]
    },
    {
     "name": "stderr",
     "output_type": "stream",
     "text": [
      "The code for file hw2b.pyc ran for 28.62m\n"
     ]
    }
   ],
   "source": [
    "test_mlp(learning_rate=0.005, L1_reg=0.00, L2_reg=0.0005, n_epochs=1000,\n",
    "             batch_size=100, n_hidden_unit=400, n_hidden_layer=2, verbose=False, activation=T.tanh)"
   ]
  },
  {
   "cell_type": "code",
   "execution_count": 20,
   "metadata": {
    "collapsed": true
   },
   "outputs": [],
   "source": [
    "%reset -f array"
   ]
  },
  {
   "cell_type": "code",
   "execution_count": 21,
   "metadata": {
    "collapsed": false
   },
   "outputs": [
    {
     "name": "stdout",
     "output_type": "stream",
     "text": [
      "0.005 0.0 0.0005 1000 100 600 2 False Elemwise{tanh,no_inplace}\n",
      "... loading data\n",
      "... building the model\n",
      "... training\n",
      "340\n",
      "Optimization complete. Best validation score of 18.082192 % obtained at iteration 221424, with test performance 18.861538 %\n"
     ]
    },
    {
     "name": "stderr",
     "output_type": "stream",
     "text": [
      "The code for file hw2b.pyc ran for 47.83m\n"
     ]
    }
   ],
   "source": [
    "test_mlp(learning_rate=0.005, L1_reg=0.00, L2_reg=0.0005, n_epochs=1000,\n",
    "             batch_size=100, n_hidden_unit=600, n_hidden_layer=2, verbose=False, activation=T.tanh)"
   ]
  },
  {
   "cell_type": "code",
   "execution_count": 22,
   "metadata": {
    "collapsed": true
   },
   "outputs": [],
   "source": [
    "%reset -f array"
   ]
  },
  {
   "cell_type": "code",
   "execution_count": 23,
   "metadata": {
    "collapsed": false
   },
   "outputs": [
    {
     "name": "stdout",
     "output_type": "stream",
     "text": [
      "0.005 0.0 0.0005 1000 100 800 2 False Elemwise{tanh,no_inplace}\n",
      "... loading data\n",
      "... building the model\n",
      "... training\n",
      "260\n",
      "Optimization complete. Best validation score of 18.438356 % obtained at iteration 170681, with test performance 19.615385 %\n"
     ]
    },
    {
     "name": "stderr",
     "output_type": "stream",
     "text": [
      "The code for file hw2b.pyc ran for 48.22m\n"
     ]
    }
   ],
   "source": [
    "test_mlp(learning_rate=0.005, L1_reg=0.00, L2_reg=0.0005, n_epochs=1000,\n",
    "             batch_size=100, n_hidden_unit=800, n_hidden_layer=2, verbose=False, activation=T.tanh)"
   ]
  },
  {
   "cell_type": "code",
   "execution_count": 2,
   "metadata": {
    "collapsed": true
   },
   "outputs": [],
   "source": [
    "%reset -f array"
   ]
  },
  {
   "cell_type": "code",
   "execution_count": 25,
   "metadata": {
    "collapsed": false
   },
   "outputs": [
    {
     "name": "stdout",
     "output_type": "stream",
     "text": [
      "0.005 0.0 0.0005 1000 100 1000 2 False Elemwise{tanh,no_inplace}\n",
      "... loading data\n",
      "... building the model\n",
      "... training\n",
      "404\n",
      "Optimization complete. Best validation score of 16.232877 % obtained at iteration 265577, with test performance 17.476923 %\n"
     ]
    },
    {
     "name": "stderr",
     "output_type": "stream",
     "text": [
      "The code for file hw2b.pyc ran for 94.77m\n"
     ]
    }
   ],
   "source": [
    "test_mlp(learning_rate=0.005, L1_reg=0.00, L2_reg=0.0005, n_epochs=1000,\n",
    "             batch_size=100, n_hidden_unit=1000, n_hidden_layer=2, verbose=False, activation=T.tanh)"
   ]
  },
  {
   "cell_type": "markdown",
   "metadata": {},
   "source": [
    "Plot the result (reproducing Figure 3)"
   ]
  },
  {
   "cell_type": "code",
   "execution_count": 13,
   "metadata": {
    "collapsed": true
   },
   "outputs": [],
   "source": [
    "%matplotlib inline"
   ]
  },
  {
   "cell_type": "code",
   "execution_count": 17,
   "metadata": {
    "collapsed": false
   },
   "outputs": [
    {
     "data": {
      "text/plain": [
       "<matplotlib.text.Text at 0xcb14550>"
      ]
     },
     "execution_count": 17,
     "metadata": {},
     "output_type": "execute_result"
    },
    {
     "data": {
      "image/png": "[encoded data removed]",
      "text/plain": [
       "<matplotlib.figure.Figure at 0xc961940>"
      ]
     },
     "metadata": {},
     "output_type": "display_data"
    },
    {
     "data": {
      "image/png": "[encoded data removed]",
      "text/plain": [
       "<matplotlib.figure.Figure at 0xcb05828>"
      ]
     },
     "metadata": {},
     "output_type": "display_data"
    }
   ],
   "source": [
    "from matplotlib import pyplot as plt\n",
    "import numpy as np\n",
    "fig1=plt.figure()\n",
    "plt.plot([200,400,600,800,1000],100.0-np.array([19.88,19.80,19.20,19.84,19.99]))\n",
    "plt.xlabel('Hidden Units')\n",
    "plt.ylabel('Test Accuracy')\n",
    "fig1.suptitle('1 layer')\n",
    "fig2=plt.figure()\n",
    "plt.plot([200,400,600,800,1000],100.0-np.array([18.32,19.23,18.86,19.61,17.48]))\n",
    "plt.xlabel('Hidden Units')\n",
    "plt.ylabel('Test Accuracy')\n",
    "fig2.suptitle('2 layers')"
   ]
  },
  {
   "cell_type": "markdown",
   "metadata": {},
   "source": [
    "Document the choice of parameters, and discuss what you discover."
   ]
  },
  {
   "cell_type": "markdown",
   "metadata": {
    "collapsed": false
   },
   "source": [
    "The choice of parameters are documented in the output of each cell. The conclusion is that for shallow neural network, increasing the number of hidden units may not give better result. It may overfit the data and results in poor generalization."
   ]
  }
 ],
 "metadata": {
  "kernelspec": {
   "display_name": "Python 2",
   "language": "python",
   "name": "python2"
  },
  "language_info": {
   "codemirror_mode": {
    "name": "ipython",
    "version": 2
   },
   "file_extension": ".py",
   "mimetype": "text/x-python",
   "name": "python",
   "nbconvert_exporter": "python",
   "pygments_lexer": "ipython2",
   "version": "2.7.11"
  }
 },
 "nbformat": 4,
 "nbformat_minor": 0
}
